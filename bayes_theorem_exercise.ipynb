{
 "cells": [
  {
   "cell_type": "markdown",
   "metadata": {
    "ExecuteTime": {
     "end_time": "2020-02-05T17:56:18.818219Z",
     "start_time": "2020-02-05T17:56:18.810698Z"
    }
   },
   "source": [
    "## Exercise 1\n",
    "In Orange County, 51% of the adults are males. (It doesn't take too much advanced\n",
    "mathematics to deduce that the other 49% are females.) One adult is randomly selected\n",
    "for a survey involving credit card usage.\n",
    "\n",
    "- **(a)** Find the probability that the selected person is a male.\n",
    "\n",
    "- **(b)** It is later learned that the selected survey subject was smoking a cigar. Also, 9.5% of males smoke cigars, whereas 1.7% of females smoke cigars (based on data from the Substance Abuse and Mental Health Services Administration). Use this additional information to find the probability that the cigar−smoking respondent is a male\n",
    "\n",
    "Use following notation:\n",
    "M = male <br>\n",
    "F = female <br>\n",
    "C = cigar smoker<br>\n",
    "NC = not a cigar smoker<br>\n"
   ]
  },
  {
   "cell_type": "code",
   "execution_count": 1,
   "metadata": {},
   "outputs": [
    {
     "name": "stdout",
     "output_type": "stream",
     "text": [
      "The probability that the cigar-smoking respondent is male is approximately 0.853 or 85.3%\n"
     ]
    }
   ],
   "source": [
    "# Given probabilities\n",
    "P_M = 0.51   # Probability of being male\n",
    "P_F = 0.49   # Probability of being female\n",
    "P_C_given_M = 0.095  # Probability of smoking cigars given male\n",
    "P_C_given_F = 0.017  # Probability of smoking cigars given female\n",
    "\n",
    "# Total probability of smoking cigars\n",
    "P_C = (P_C_given_M * P_M) + (P_C_given_F * P_F)\n",
    "\n",
    "# Probability of being male given smoking cigars (using Bayes' Theorem)\n",
    "P_M_given_C = (P_C_given_M * P_M) / P_C\n",
    "\n",
    "# Print the result\n",
    "print(f\"The probability that the cigar-smoking respondent is male is approximately {P_M_given_C:.3f} or {P_M_given_C * 100:.1f}%\")"
   ]
  },
  {
   "cell_type": "code",
   "execution_count": null,
   "metadata": {},
   "outputs": [],
   "source": []
  },
  {
   "cell_type": "code",
   "execution_count": null,
   "metadata": {},
   "outputs": [],
   "source": []
  },
  {
   "cell_type": "markdown",
   "metadata": {
    "ExecuteTime": {
     "end_time": "2020-02-05T17:56:20.532960Z",
     "start_time": "2020-02-05T17:56:20.525450Z"
    }
   },
   "source": [
    "# Exercise 2\n",
    "\n",
    "A diagnostic test has a probability 0.95 of giving a positive result when applied to a person suffering\n",
    "from a certain disease, and a probability 0.10 of giving a (false) positive when applied to a non-sufferer. It is\n",
    "estimated that 0.5 % of the population are sufferers. Suppose that the test is now administered to a person about\n",
    "whom we have no relevant information relating to the disease (apart from the fact that he/she comes from this\n",
    "population). \n",
    "\n",
    "Calculate the following probabilities:\n",
    "- **(a)** that the test result will be positive;\n",
    "- **(b)** that, given a positive result, the person is a sufferer;\n",
    "- **(c)** that, given a negative result, the person is a non-sufferer;\n",
    "- **(d)** that the person will be misclassified.\n",
    "\n",
    "Use following notation:\n",
    "\n",
    "T = test positive <br>\n",
    "NT = test negative<br>\n",
    "S = sufferer<br>\n",
    "NS = non-sufferer<br>\n",
    "M = misclassified<br>\n",
    "\n",
    "Solve it by two approaches:\n",
    "1. Arithmetically\n",
    "2. By simulation"
   ]
  },
  {
   "cell_type": "code",
   "execution_count": 2,
   "metadata": {},
   "outputs": [
    {
     "name": "stdout",
     "output_type": "stream",
     "text": [
      "Simulated Probability of Positive Test: 0.1032\n",
      "Simulated Probability of Sufferer given Positive Test: 0.0463\n",
      "Simulated Probability of Non-Sufferer given Negative Test: 0.0000\n",
      "Simulated Probability of Misclassification: 0.0984\n"
     ]
    }
   ],
   "source": [
    "import numpy as np\n",
    "\n",
    "# Parameters\n",
    "P_T_given_S = 0.95\n",
    "P_T_given_NS = 0.10\n",
    "P_S = 0.005\n",
    "P_NS = 1 - P_S\n",
    "num_simulations = 100000\n",
    "\n",
    "# Simulate the population\n",
    "population = np.random.choice(['S', 'NS'], size=num_simulations, p=[P_S, P_NS])\n",
    "\n",
    "# Simulate test results\n",
    "test_results = []\n",
    "for person in population:\n",
    "    if person == 'S':\n",
    "        test_results.append(np.random.choice(['T', 'NT'], p=[P_T_given_S, 1 - P_T_given_S]))\n",
    "    else:\n",
    "        test_results.append(np.random.choice(['T', 'NT'], p=[P_T_given_NS, 1 - P_T_given_NS]))\n",
    "\n",
    "# Calculate probabilities\n",
    "P_T_simulated = np.mean(np.array(test_results) == 'T')\n",
    "P_T_given_S_simulated = np.mean(np.array(test_results)[np.array(population) == 'S'] == 'T')\n",
    "P_S_given_T_simulated = P_T_given_S_simulated * P_S / P_T_simulated\n",
    "P_NS_given_NT_simulated = np.mean(np.array(test_results)[np.array(test_results) == 'NT'] == 'NS')\n",
    "P_misclassified_simulated = np.mean((np.array(population) == 'S') & (np.array(test_results) == 'NT')) + \\\n",
    "                            np.mean((np.array(population) == 'NS') & (np.array(test_results) == 'T'))\n",
    "\n",
    "# Print the results\n",
    "print(f\"Simulated Probability of Positive Test: {P_T_simulated:.4f}\")\n",
    "print(f\"Simulated Probability of Sufferer given Positive Test: {P_S_given_T_simulated:.4f}\")\n",
    "print(f\"Simulated Probability of Non-Sufferer given Negative Test: {P_NS_given_NT_simulated:.4f}\")\n",
    "print(f\"Simulated Probability of Misclassification: {P_misclassified_simulated:.4f}\")"
   ]
  },
  {
   "cell_type": "code",
   "execution_count": null,
   "metadata": {},
   "outputs": [],
   "source": []
  },
  {
   "cell_type": "code",
   "execution_count": null,
   "metadata": {},
   "outputs": [],
   "source": []
  }
 ],
 "metadata": {
  "kernelspec": {
   "display_name": "THE_ONE",
   "language": "python",
   "name": "the_one"
  },
  "language_info": {
   "codemirror_mode": {
    "name": "ipython",
    "version": 3
   },
   "file_extension": ".py",
   "mimetype": "text/x-python",
   "name": "python",
   "nbconvert_exporter": "python",
   "pygments_lexer": "ipython3",
   "version": "3.11.7"
  },
  "toc": {
   "base_numbering": 1,
   "nav_menu": {},
   "number_sections": true,
   "sideBar": true,
   "skip_h1_title": false,
   "title_cell": "Table of Contents",
   "title_sidebar": "Contents",
   "toc_cell": false,
   "toc_position": {},
   "toc_section_display": true,
   "toc_window_display": false
  },
  "varInspector": {
   "cols": {
    "lenName": 16,
    "lenType": 16,
    "lenVar": 40
   },
   "kernels_config": {
    "python": {
     "delete_cmd_postfix": "",
     "delete_cmd_prefix": "del ",
     "library": "var_list.py",
     "varRefreshCmd": "print(var_dic_list())"
    },
    "r": {
     "delete_cmd_postfix": ") ",
     "delete_cmd_prefix": "rm(",
     "library": "var_list.r",
     "varRefreshCmd": "cat(var_dic_list()) "
    }
   },
   "types_to_exclude": [
    "module",
    "function",
    "builtin_function_or_method",
    "instance",
    "_Feature"
   ],
   "window_display": false
  }
 },
 "nbformat": 4,
 "nbformat_minor": 4
}
