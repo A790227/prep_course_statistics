{
 "cells": [
  {
   "cell_type": "code",
   "execution_count": null,
   "metadata": {
    "ExecuteTime": {
     "end_time": "2020-02-05T17:56:58.505807Z",
     "start_time": "2020-02-05T17:56:58.495305Z"
    }
   },
   "outputs": [],
   "source": [
    "# import numpy\n",
    "import numpy as np"
   ]
  },
  {
   "cell_type": "code",
   "execution_count": null,
   "metadata": {
    "ExecuteTime": {
     "end_time": "2020-02-05T17:56:58.735622Z",
     "start_time": "2020-02-05T17:56:58.725781Z"
    }
   },
   "outputs": [],
   "source": [
    "# weights = np.concatenate((np.random.normal(85,20,25), np.random.normal(65,10,25)))\n",
    "# people weights \n",
    "weights = [94.93428306,  82.23471398, 97.95377076, 115.46059713, 80.31693251,  80.31726086, 116.58425631, \n",
    "           100.34869458,  75.61051228, 95.85120087, 75.73164614, 75.68540493, 89.83924543,  46.73439511,  \n",
    "           50.50164335,  73.75424942,  64.74337759,  91.28494665, 66.83951849, 56.75392597, 114.31297538, \n",
    "           80.48447399,  86.35056409,  56.50503628, 74.11234551,  66.1092259 ,  53.49006423,  68.75698018,\n",
    "           58.9936131 ,  62.0830625 ,  58.98293388,  83.52278185, 64.86502775,  54.42289071,  73.22544912,  \n",
    "           52.7915635 ,67.08863595,  45.40329876,  51.71813951,  66.96861236, 72.3846658 ,  66.71368281,  \n",
    "           63.84351718,  61.98896304, 50.2147801 ,  57.80155792,  60.39361229,  75.57122226, 68.4361829 , 47.36959845]"
   ]
  },
  {
   "cell_type": "code",
   "execution_count": null,
   "metadata": {
    "ExecuteTime": {
     "end_time": "2020-02-05T17:56:58.931431Z",
     "start_time": "2020-02-05T17:56:58.926012Z"
    }
   },
   "outputs": [],
   "source": [
    "# set the significance level (alpha) to 0.05\n",
    "alpha = 0.05"
   ]
  },
  {
   "cell_type": "code",
   "execution_count": null,
   "metadata": {
    "ExecuteTime": {
     "end_time": "2020-02-05T17:56:59.123535Z",
     "start_time": "2020-02-05T17:56:59.117117Z"
    }
   },
   "outputs": [],
   "source": [
    "\"\"\"\n",
    "Define function 'evaluate_test' which prints a conclusion of hypothesis test based on p-value and alpha\n",
    "\n",
    "PARAMS:\n",
    "    p (float) - p-value from test\n",
    "    alpha - significance level\n",
    "\"\"\"\n",
    "\n",
    "def evaluate_test(p, alhpa):\n",
    "    print(f'p = {round(p,2)}, alpha = {alpha}')\n",
    "    \n",
    "    if p > alhpa:\n",
    "        print(f'We can not reject H0.')\n",
    "    else:\n",
    "        print(f'H0 is rejected.')"
   ]
  },
  {
   "cell_type": "code",
   "execution_count": null,
   "metadata": {
    "ExecuteTime": {
     "end_time": "2020-02-05T17:56:59.352890Z",
     "start_time": "2020-02-05T17:56:59.347623Z"
    }
   },
   "outputs": [],
   "source": [
    "# Import Shapiro-Wilk Test to test if weights are normally distributed\n",
    "# H0 = weights are normally distributed, HA = weights are not normally distributed\n",
    "# https://docs.scipy.org/doc/scipy/reference/generated/scipy.stats.shapiro.html\n",
    "\n",
    "from scipy.stats import shapiro\n",
    "stat, p = shapiro(weights)"
   ]
  },
  {
   "cell_type": "code",
   "execution_count": null,
   "metadata": {
    "ExecuteTime": {
     "end_time": "2020-02-05T17:56:59.578726Z",
     "start_time": "2020-02-05T17:56:59.574044Z"
    }
   },
   "outputs": [],
   "source": [
    "# use function 'evaluate_test' to make conclusion if weights are normally distributed\n",
    "evaluate_test(p,alpha)"
   ]
  },
  {
   "cell_type": "code",
   "execution_count": null,
   "metadata": {
    "ExecuteTime": {
     "end_time": "2020-02-05T17:56:59.840141Z",
     "start_time": "2020-02-05T17:56:59.795906Z"
    }
   },
   "outputs": [],
   "source": [
    "# test the hypothesis that mean of weights is equal to 72, \n",
    "# use one sample t-test\n",
    "# H0: mean = 72, HA: mean != 72\n",
    "# note that we don't know the population standard deviation\n",
    "\n",
    "# CLT because weights is not normally distributed\n",
    "means = []\n",
    "for _ in range(500):\n",
    "    means.append((np.random.choice(weights, 30).mean()))\n",
    "\n",
    "from scipy.stats import ttest_1samp\n",
    "stat, p = ttest_1samp(means, 72)"
   ]
  },
  {
   "cell_type": "code",
   "execution_count": null,
   "metadata": {
    "ExecuteTime": {
     "end_time": "2020-02-05T17:57:00.039102Z",
     "start_time": "2020-02-05T17:57:00.032521Z"
    }
   },
   "outputs": [],
   "source": [
    "# use function 'evaluate_test' to make conclusion if the mean of the heights is 72\n",
    "evaluate_test(p,alpha)"
   ]
  },
  {
   "cell_type": "code",
   "execution_count": null,
   "metadata": {},
   "outputs": [],
   "source": []
  },
  {
   "cell_type": "code",
   "execution_count": null,
   "metadata": {
    "ExecuteTime": {
     "end_time": "2020-02-05T17:57:00.504635Z",
     "start_time": "2020-02-05T17:57:00.496029Z"
    }
   },
   "outputs": [],
   "source": [
    "# salaries in first company\n",
    "salaries_company_A = [ 62779.75930907,  67487.49834604,  78998.91885801,  92801.06354333,\n",
    "        94917.76195759,  85409.43843246,  65536.36510309,  97608.88920408,\n",
    "        79613.1791369 ,  74035.25988438,  72698.71057961,  57170.2204782 ,\n",
    "        96496.56571672,  78123.01652012,  69617.56847376,  89109.14505065,\n",
    "        91809.98342107,  54010.91167324, 103259.7319888 , 113319.79557154,\n",
    "        81529.81385057,  83590.49251746, 115902.53443622,  63608.1666576 ,\n",
    "        72175.25765417,  88719.32305603,  97215.1090373 ,  80570.98830349,\n",
    "        67796.25874935,  99321.80738101]\n",
    "\n",
    "# salaries in second company\n",
    "salaries_company_B = [ 89845.96793876,  90027.93042629, 108596.08141043, 120113.67952031,\n",
    "        94794.04532001,  99565.51332692, 110927.06162603,  85471.82457925,\n",
    "        79030.8553638 ,  82644.84718934,  71592.66608011,  68244.23637394,\n",
    "       134420.97566401,  72106.76757987,  95429.7573215 ,  88285.90615416,\n",
    "       110973.4078626 ,  92323.32822085, 117740.37152488,  87412.61048855,\n",
    "        94906.53993793, 105017.39597368,  93983.46012639, 100538.051311  ,\n",
    "        95673.65143504,  61727.33698247, 105311.27474286, 113551.6401474 ,\n",
    "        87408.82036567,  85895.00912077]"
   ]
  },
  {
   "cell_type": "code",
   "execution_count": null,
   "metadata": {
    "ExecuteTime": {
     "end_time": "2020-02-05T17:57:00.718056Z",
     "start_time": "2020-02-05T17:57:00.709749Z"
    }
   },
   "outputs": [],
   "source": [
    "# test the hypothesis that mean of salaries in companies are equal\n",
    "# use t-test\n",
    "# # H0: salaries are the same, HA: salaries are not the same\n",
    "\n",
    "\n",
    "# test the normality\n",
    "stat, p = shapiro(salaries_company_A)\n",
    "evaluate_test(p,alpha)\n",
    "\n",
    "stat, p = shapiro(salaries_company_B)\n",
    "evaluate_test(p,alpha)\n",
    "\n",
    "# test means\n",
    "from scipy.stats import ttest_ind\n",
    "stat, p = ttest_ind(salaries_company_A,salaries_company_B)\n",
    "evaluate_test(p,alpha)"
   ]
  },
  {
   "cell_type": "code",
   "execution_count": null,
   "metadata": {},
   "outputs": [],
   "source": []
  },
  {
   "cell_type": "code",
   "execution_count": null,
   "metadata": {},
   "outputs": [],
   "source": []
  },
  {
   "cell_type": "code",
   "execution_count": null,
   "metadata": {},
   "outputs": [],
   "source": []
  },
  {
   "cell_type": "code",
   "execution_count": null,
   "metadata": {},
   "outputs": [],
   "source": []
  }
 ],
 "metadata": {
  "kernelspec": {
   "display_name": "Python 3",
   "language": "python",
   "name": "python3"
  },
  "language_info": {
   "codemirror_mode": {
    "name": "ipython",
    "version": 3
   },
   "file_extension": ".py",
   "mimetype": "text/x-python",
   "name": "python",
   "nbconvert_exporter": "python",
   "pygments_lexer": "ipython3",
   "version": "3.7.4"
  },
  "toc": {
   "base_numbering": 1,
   "nav_menu": {},
   "number_sections": true,
   "sideBar": true,
   "skip_h1_title": false,
   "title_cell": "Table of Contents",
   "title_sidebar": "Contents",
   "toc_cell": false,
   "toc_position": {},
   "toc_section_display": true,
   "toc_window_display": false
  },
  "varInspector": {
   "cols": {
    "lenName": 16,
    "lenType": 16,
    "lenVar": 40
   },
   "kernels_config": {
    "python": {
     "delete_cmd_postfix": "",
     "delete_cmd_prefix": "del ",
     "library": "var_list.py",
     "varRefreshCmd": "print(var_dic_list())"
    },
    "r": {
     "delete_cmd_postfix": ") ",
     "delete_cmd_prefix": "rm(",
     "library": "var_list.r",
     "varRefreshCmd": "cat(var_dic_list()) "
    }
   },
   "types_to_exclude": [
    "module",
    "function",
    "builtin_function_or_method",
    "instance",
    "_Feature"
   ],
   "window_display": false
  }
 },
 "nbformat": 4,
 "nbformat_minor": 2
}
