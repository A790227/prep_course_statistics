{
 "cells": [
  {
   "cell_type": "code",
   "execution_count": null,
   "metadata": {
    "ExecuteTime": {
     "end_time": "2020-02-05T17:56:32.374708Z",
     "start_time": "2020-02-05T17:56:31.603236Z"
    }
   },
   "outputs": [],
   "source": [
    "import numpy as np\n",
    "np.random.seed(42)\n",
    "from scipy.stats import shapiro\n",
    "import matplotlib.pyplot as plt\n",
    "plt.style.use('fivethirtyeight')"
   ]
  },
  {
   "cell_type": "code",
   "execution_count": null,
   "metadata": {
    "ExecuteTime": {
     "end_time": "2020-02-05T17:56:32.483613Z",
     "start_time": "2020-02-05T17:56:32.434938Z"
    }
   },
   "outputs": [],
   "source": [
    "exponential_data = np.random.exponential(100,1000000)\n",
    "uniform_data = np.random.uniform(1,100,1000000)"
   ]
  },
  {
   "cell_type": "code",
   "execution_count": null,
   "metadata": {
    "ExecuteTime": {
     "end_time": "2020-02-05T17:56:32.547027Z",
     "start_time": "2020-02-05T17:56:32.537116Z"
    }
   },
   "outputs": [],
   "source": [
    "def min_sample_size(data, sample_sizes = [1,5,30,50,100,300,500,1000,10000], alpha = 0.05):\n",
    "    # set random seed\n",
    "    np.random.seed(42)\n",
    "    # dict with key=size, value=is_normal\n",
    "    sample_size_is_normal = {}\n",
    "    \n",
    "    for size in sample_sizes:\n",
    "        means = []\n",
    "        for _ in range(1000):\n",
    "            means.append(np.random.choice(data, size).mean())\n",
    "        \n",
    "        # plot distribution\n",
    "        plt.hist(means)\n",
    "        plt.title(f'Sample size: {size}')\n",
    "        plt.show()\n",
    "        \n",
    "        # normality test\n",
    "        stat, p = shapiro(means)\n",
    "        \n",
    "        if p > alpha:\n",
    "            is_normal = True\n",
    "        else:\n",
    "            is_normal = False\n",
    "        \n",
    "        # save the results\n",
    "        sample_size_is_normal[size] = is_normal\n",
    "    \n",
    "    return sample_size_is_normal"
   ]
  },
  {
   "cell_type": "code",
   "execution_count": null,
   "metadata": {
    "ExecuteTime": {
     "end_time": "2020-02-05T17:56:34.934367Z",
     "start_time": "2020-02-05T17:56:32.611752Z"
    },
    "scrolled": false
   },
   "outputs": [],
   "source": [
    "result_exponential = min_sample_size(exponential_data)"
   ]
  },
  {
   "cell_type": "code",
   "execution_count": null,
   "metadata": {
    "ExecuteTime": {
     "end_time": "2020-02-05T17:56:35.024930Z",
     "start_time": "2020-02-05T17:56:35.019571Z"
    }
   },
   "outputs": [],
   "source": [
    "result_exponential"
   ]
  },
  {
   "cell_type": "code",
   "execution_count": null,
   "metadata": {
    "ExecuteTime": {
     "end_time": "2020-02-05T17:56:37.752790Z",
     "start_time": "2020-02-05T17:56:35.106779Z"
    },
    "scrolled": false
   },
   "outputs": [],
   "source": [
    "result_uniform = min_sample_size(uniform_data)"
   ]
  },
  {
   "cell_type": "code",
   "execution_count": null,
   "metadata": {
    "ExecuteTime": {
     "end_time": "2020-02-05T17:56:37.864720Z",
     "start_time": "2020-02-05T17:56:37.856057Z"
    }
   },
   "outputs": [],
   "source": [
    "result_uniform"
   ]
  },
  {
   "cell_type": "code",
   "execution_count": null,
   "metadata": {},
   "outputs": [],
   "source": []
  },
  {
   "cell_type": "code",
   "execution_count": null,
   "metadata": {},
   "outputs": [],
   "source": []
  }
 ],
 "metadata": {
  "kernelspec": {
   "display_name": "Python 3",
   "language": "python",
   "name": "python3"
  },
  "language_info": {
   "codemirror_mode": {
    "name": "ipython",
    "version": 3
   },
   "file_extension": ".py",
   "mimetype": "text/x-python",
   "name": "python",
   "nbconvert_exporter": "python",
   "pygments_lexer": "ipython3",
   "version": "3.7.4"
  },
  "toc": {
   "base_numbering": 1,
   "nav_menu": {},
   "number_sections": true,
   "sideBar": true,
   "skip_h1_title": false,
   "title_cell": "Table of Contents",
   "title_sidebar": "Contents",
   "toc_cell": false,
   "toc_position": {},
   "toc_section_display": true,
   "toc_window_display": false
  },
  "varInspector": {
   "cols": {
    "lenName": 16,
    "lenType": 16,
    "lenVar": 40
   },
   "kernels_config": {
    "python": {
     "delete_cmd_postfix": "",
     "delete_cmd_prefix": "del ",
     "library": "var_list.py",
     "varRefreshCmd": "print(var_dic_list())"
    },
    "r": {
     "delete_cmd_postfix": ") ",
     "delete_cmd_prefix": "rm(",
     "library": "var_list.r",
     "varRefreshCmd": "cat(var_dic_list()) "
    }
   },
   "types_to_exclude": [
    "module",
    "function",
    "builtin_function_or_method",
    "instance",
    "_Feature"
   ],
   "window_display": false
  }
 },
 "nbformat": 4,
 "nbformat_minor": 2
}
