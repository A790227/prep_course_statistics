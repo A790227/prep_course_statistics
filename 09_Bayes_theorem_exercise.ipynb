{
 "cells": [
  {
   "cell_type": "code",
   "execution_count": null,
   "metadata": {
    "ExecuteTime": {
     "end_time": "2020-02-05T17:56:18.818219Z",
     "start_time": "2020-02-05T17:56:18.810698Z"
    }
   },
   "outputs": [],
   "source": [
    "# Exercise 1\n",
    "\"\"\"\n",
    "In Orange County, 51% of the adults are males. (It doesn't take too much advanced\n",
    "mathematics to deduce that the other 49% are females.) One adult is randomly selected\n",
    "for a survey involving credit card usage.\n",
    "\n",
    "(a) Find the probability that the selected person is a male. (question = PM?)\n",
    "\n",
    "(b) It is later learned that the selected survey subject was smoking a cigar. Also, 9.5%\n",
    "of males smoke cigars, whereas 1.7% of females smoke cigars (based on data\n",
    "from the Substance Abuse and Mental Health Services Administration). Use this\n",
    "additional information to find the probability that the cigar−smoking respondent is a male. (question = PMC?)\n",
    "\n",
    "Use following notation:\n",
    "M = male\n",
    "F = female\n",
    "C = cigar smoker\n",
    "NC = not a cigar smkoer\n",
    "\"\"\"\n"
   ]
  },
  {
   "cell_type": "code",
   "execution_count": null,
   "metadata": {
    "ExecuteTime": {
     "end_time": "2020-02-05T17:56:19.111252Z",
     "start_time": "2020-02-05T17:56:19.103365Z"
    }
   },
   "outputs": [],
   "source": [
    "# (a)\n",
    "PM = 0.51 # proba male"
   ]
  },
  {
   "cell_type": "code",
   "execution_count": null,
   "metadata": {
    "ExecuteTime": {
     "end_time": "2020-02-05T17:56:19.601008Z",
     "start_time": "2020-02-05T17:56:19.592742Z"
    }
   },
   "outputs": [],
   "source": [
    "# (b)\n",
    "\n",
    "PM = 0.51 # proba male\n",
    "PF = 1 - PM # proba female\n",
    "PCM = 0.095 # proba someone who smokes cigars, given that the person is a male\n",
    "PCF = 0.017 # proba someone who smokes cigars, given that the person is a female\n",
    "\n",
    "PMC = (PM*PCM)/((PM*PCM) + (PF*PCF)) # proba that the cigar−smoking respondent is a male\n",
    "PMC"
   ]
  },
  {
   "cell_type": "code",
   "execution_count": null,
   "metadata": {},
   "outputs": [],
   "source": []
  },
  {
   "cell_type": "code",
   "execution_count": null,
   "metadata": {
    "ExecuteTime": {
     "end_time": "2020-02-05T17:56:20.532960Z",
     "start_time": "2020-02-05T17:56:20.525450Z"
    }
   },
   "outputs": [],
   "source": [
    "# Exercise 2\n",
    "\"\"\"\n",
    "A diagnostic test has a probability 0.95 of giving a positive result when applied to a person suffering\n",
    "from a certain disease, and a probability 0.10 of giving a (false) positive when applied to a non-sufferer. It is\n",
    "estimated that 0.5 % of the population are sufferers. Suppose that the test is now administered to a person about\n",
    "whom we have no relevant information relating to the disease (apart from the fact that he/she comes from this\n",
    "population). \n",
    "\n",
    "Calculate the following probabilities:\n",
    "(a) that the test result will be positive;\n",
    "(b) that, given a positive result, the person is a sufferer;\n",
    "(c) that, given a negative result, the person is a non-sufferer;\n",
    "(d) that the person will be misclassified.\n",
    "\n",
    "Use following notation:\n",
    "T = test positive\n",
    "NT = test negative\n",
    "S = sufferer\n",
    "NS = non-sufferer\n",
    "M = misclassified\n",
    "\"\"\""
   ]
  },
  {
   "cell_type": "code",
   "execution_count": null,
   "metadata": {
    "ExecuteTime": {
     "end_time": "2020-02-05T17:56:20.889759Z",
     "start_time": "2020-02-05T17:56:20.883774Z"
    }
   },
   "outputs": [],
   "source": [
    "import numpy as np"
   ]
  },
  {
   "cell_type": "code",
   "execution_count": null,
   "metadata": {
    "ExecuteTime": {
     "end_time": "2020-02-05T17:56:21.352873Z",
     "start_time": "2020-02-05T17:56:21.344130Z"
    }
   },
   "outputs": [],
   "source": [
    "np.random.random()"
   ]
  },
  {
   "cell_type": "code",
   "execution_count": null,
   "metadata": {
    "ExecuteTime": {
     "end_time": "2020-02-05T17:56:21.813616Z",
     "start_time": "2020-02-05T17:56:21.802178Z"
    }
   },
   "outputs": [],
   "source": [
    "# (a)\n",
    "PTS = 0.95 # proba of positive test, given that the person is a sufferer\n",
    "PNTS = 0.05 # proba of negative test, given that the person is a sufferer\n",
    "PTNS = 0.1 # proba of positive test, given that the person is a non-sufferer\n",
    "PNTNS = 0.9 # proba of negative test, given that the person is a non-sufferer\n",
    "PS = 0.005 # proba that the person is a sufferer\n",
    "PNS = 0.995 # proba that the person is a non-sufferer\n",
    "\n",
    "PT =  PTS*PS + PTNS*PNS # proba of positive test\n",
    "PT"
   ]
  },
  {
   "cell_type": "code",
   "execution_count": null,
   "metadata": {
    "ExecuteTime": {
     "end_time": "2020-02-05T17:56:22.054438Z",
     "start_time": "2020-02-05T17:56:22.049247Z"
    }
   },
   "outputs": [],
   "source": [
    "# (b)\n",
    "PST = (PS*PTS)/PT # proba of the person is a sufferer, given that the person has positive test\n",
    "PST"
   ]
  },
  {
   "cell_type": "code",
   "execution_count": null,
   "metadata": {
    "ExecuteTime": {
     "end_time": "2020-02-05T17:56:22.271640Z",
     "start_time": "2020-02-05T17:56:22.265525Z"
    }
   },
   "outputs": [],
   "source": [
    "# (c)\n",
    "PNT = 1 - PT # proba of negative test\n",
    "PNSNT = PNS*PNTNS/PNT # proba of the person is a non-sufferer, given that the person has negative test\n",
    "PNSNT"
   ]
  },
  {
   "cell_type": "code",
   "execution_count": null,
   "metadata": {
    "ExecuteTime": {
     "end_time": "2020-02-05T17:56:22.504326Z",
     "start_time": "2020-02-05T17:56:22.495323Z"
    }
   },
   "outputs": [],
   "source": [
    "# (d)\n",
    "PM = PTNS*PNS + PNTS*PS # proba of misclassified\n",
    "PM"
   ]
  },
  {
   "cell_type": "code",
   "execution_count": null,
   "metadata": {},
   "outputs": [],
   "source": []
  },
  {
   "cell_type": "code",
   "execution_count": null,
   "metadata": {},
   "outputs": [],
   "source": []
  },
  {
   "cell_type": "code",
   "execution_count": null,
   "metadata": {},
   "outputs": [],
   "source": []
  }
 ],
 "metadata": {
  "kernelspec": {
   "display_name": "Python 3",
   "language": "python",
   "name": "python3"
  },
  "language_info": {
   "codemirror_mode": {
    "name": "ipython",
    "version": 3
   },
   "file_extension": ".py",
   "mimetype": "text/x-python",
   "name": "python",
   "nbconvert_exporter": "python",
   "pygments_lexer": "ipython3",
   "version": "3.7.4"
  },
  "toc": {
   "base_numbering": 1,
   "nav_menu": {},
   "number_sections": true,
   "sideBar": true,
   "skip_h1_title": false,
   "title_cell": "Table of Contents",
   "title_sidebar": "Contents",
   "toc_cell": false,
   "toc_position": {},
   "toc_section_display": true,
   "toc_window_display": false
  },
  "varInspector": {
   "cols": {
    "lenName": 16,
    "lenType": 16,
    "lenVar": 40
   },
   "kernels_config": {
    "python": {
     "delete_cmd_postfix": "",
     "delete_cmd_prefix": "del ",
     "library": "var_list.py",
     "varRefreshCmd": "print(var_dic_list())"
    },
    "r": {
     "delete_cmd_postfix": ") ",
     "delete_cmd_prefix": "rm(",
     "library": "var_list.r",
     "varRefreshCmd": "cat(var_dic_list()) "
    }
   },
   "types_to_exclude": [
    "module",
    "function",
    "builtin_function_or_method",
    "instance",
    "_Feature"
   ],
   "window_display": false
  }
 },
 "nbformat": 4,
 "nbformat_minor": 2
}
